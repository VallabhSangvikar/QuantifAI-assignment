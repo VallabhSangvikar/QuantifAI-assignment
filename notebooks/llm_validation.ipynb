{
 "cells": [
  {
   "cell_type": "raw",
   "id": "61f16d8c-a64f-4229-9b4a-ab30175fcf0b",
   "metadata": {},
   "source": [
    "Import issue in the jupyternb "
   ]
  },
  {
   "cell_type": "code",
   "execution_count": 3,
   "id": "42ccf3f2-2f60-4330-96e9-30281a37936e",
   "metadata": {},
   "outputs": [],
   "source": [
    "import sys\n",
    "import os\n",
    "sys.path.append(os.path.abspath(\"..\"))"
   ]
  },
  {
   "cell_type": "markdown",
   "id": "57244435",
   "metadata": {},
   "source": [
    "# Imports for pandas,pdf maker, summarise utility "
   ]
  },
  {
   "cell_type": "code",
   "execution_count": 4,
   "id": "c7f5e74e-fda3-47bc-8fd9-ddcff9086baf",
   "metadata": {},
   "outputs": [],
   "source": [
    "import pandas as pd\n",
    "from fpdf import FPDF"
   ]
  },
  {
   "cell_type": "code",
   "execution_count": 5,
   "id": "29bc79d8",
   "metadata": {},
   "outputs": [],
   "source": [
    "from pydantic import BaseModel\n",
    "from typing import List"
   ]
  },
  {
   "cell_type": "code",
   "execution_count": 6,
   "id": "f46f5b3c-5c49-481d-9a34-c5c0689df038",
   "metadata": {},
   "outputs": [],
   "source": [
    "from utils.summarise import summarize_dataframe"
   ]
  },
  {
   "cell_type": "markdown",
   "id": "7140291b",
   "metadata": {},
   "source": [
    "# Imports for Langchain implementation"
   ]
  },
  {
   "cell_type": "code",
   "execution_count": 7,
   "id": "32818001",
   "metadata": {},
   "outputs": [],
   "source": [
    "from langchain.prompts import PromptTemplate\n",
    "from langchain.schema.output_parser import StrOutputParser\n",
    "from langchain.output_parsers import PydanticOutputParser\n",
    "from langchain.chains import LLMChain\n",
    "from langchain_core.runnables import RunnableLambda\n",
    "\n",
    "import random\n",
    "import json"
   ]
  },
  {
   "cell_type": "code",
   "execution_count": 8,
   "id": "cbd8a5fd-49db-43b9-9d6b-977a12411228",
   "metadata": {},
   "outputs": [
    {
     "name": "stderr",
     "output_type": "stream",
     "text": [
      "c:\\Users\\valla\\Desktop\\Companies\\QuantifAI\\myenv\\Lib\\site-packages\\tqdm\\auto.py:21: TqdmWarning: IProgress not found. Please update jupyter and ipywidgets. See https://ipywidgets.readthedocs.io/en/stable/user_install.html\n",
      "  from .autonotebook import tqdm as notebook_tqdm\n"
     ]
    }
   ],
   "source": [
    "from langchain_google_genai import ChatGoogleGenerativeAI\n",
    "from dotenv import load_dotenv"
   ]
  },
  {
   "cell_type": "code",
   "execution_count": 9,
   "id": "8f0882df",
   "metadata": {},
   "outputs": [
    {
     "data": {
      "text/plain": [
       "True"
      ]
     },
     "execution_count": 9,
     "metadata": {},
     "output_type": "execute_result"
    }
   ],
   "source": [
    "load_dotenv()"
   ]
  },
  {
   "cell_type": "markdown",
   "id": "cdff54ba",
   "metadata": {},
   "source": [
    "**Dataset Loader**"
   ]
  },
  {
   "cell_type": "code",
   "execution_count": 10,
   "id": "55cf7a14",
   "metadata": {},
   "outputs": [],
   "source": [
    "customers_data_summary = pd.read_json(\"../data/customers_messy_data.json\")\n",
    "products_data_summary = pd.read_json(\"../data/products_inconsistent_data.json\")\n",
    "orders_data_summary = pd.read_csv(\"../data/orders_unstructured_data.csv\")"
   ]
  },
  {
   "cell_type": "markdown",
   "id": "b452c097",
   "metadata": {},
   "source": [
    "# summarise the datasets"
   ]
  },
  {
   "cell_type": "code",
   "execution_count": 11,
   "id": "976d8639",
   "metadata": {},
   "outputs": [],
   "source": [
    "summarized_customers_data = summarize_dataframe(customers_data_summary,\"customers\")\n",
    "summarized_products_data = summarize_dataframe(products_data_summary,\"products\")\n",
    "summarized_orders_data = summarize_dataframe(orders_data_summary,\"orders\")"
   ]
  },
  {
   "cell_type": "markdown",
   "id": "ffbb6fdf",
   "metadata": {},
   "source": [
    "**Printing the summaries**"
   ]
  },
  {
   "cell_type": "code",
   "execution_count": 12,
   "id": "a39ec59c",
   "metadata": {},
   "outputs": [],
   "source": [
    "# for col_summary in summarized_customers_data:\n",
    "#     print(f\"Dataset       : {col_summary['dataset']}\")\n",
    "#     print(f\"Column        : {col_summary['column']}\")\n",
    "#     print(f\"Types         : {', '.join(col_summary['types'])}\")\n",
    "#     print(f\"Sample Values : {col_summary['sample_values']}\")\n",
    "#     print(f\"Unique Count  : {col_summary['unique_count']}\")\n",
    "#     print(f\"Null %        : {col_summary['null_percentage']}%\")\n",
    "#     print(f\"Notes         : {col_summary['notes'] if col_summary['notes'] else 'None'}\")\n",
    "#     print(\"-\" * 60)"
   ]
  },
  {
   "cell_type": "code",
   "execution_count": 13,
   "id": "be4f46e8",
   "metadata": {},
   "outputs": [],
   "source": [
    "# for col_summary in summarized_products_data:\n",
    "#     print(f\"Dataset       : {col_summary['dataset']}\")\n",
    "#     print(f\"Column        : {col_summary['column']}\")\n",
    "#     print(f\"Types         : {', '.join(col_summary['types'])}\")\n",
    "#     print(f\"Sample Values : {col_summary['sample_values']}\")\n",
    "#     print(f\"Unique Count  : {col_summary['unique_count']}\")\n",
    "#     print(f\"Null %        : {col_summary['null_percentage']}%\")\n",
    "#     print(f\"Notes         : {col_summary['notes'] if col_summary['notes'] else 'None'}\")\n",
    "#     print(\"-\" * 60)"
   ]
  },
  {
   "cell_type": "code",
   "execution_count": 14,
   "id": "ec6d5cb1",
   "metadata": {},
   "outputs": [],
   "source": [
    "summary_df = pd.DataFrame(summarized_orders_data)"
   ]
  },
  {
   "cell_type": "markdown",
   "id": "ab2c650d",
   "metadata": {},
   "source": [
    "# Creating output parser for LLM outputs for getting issues in datasets"
   ]
  },
  {
   "cell_type": "code",
   "execution_count": 15,
   "id": "06b82701",
   "metadata": {},
   "outputs": [],
   "source": [
    "class IssueOutput(BaseModel):\n",
    "    issues: List[str]\n",
    "\n",
    "\n",
    "\n",
    "parser = PydanticOutputParser(pydantic_object=IssueOutput)"
   ]
  },
  {
   "cell_type": "markdown",
   "id": "8313bc0c",
   "metadata": {},
   "source": [
    "# Langchain code for generating issues from dataset samples + summary  "
   ]
  },
  {
   "cell_type": "code",
   "execution_count": 16,
   "id": "39a86df4",
   "metadata": {},
   "outputs": [],
   "source": [
    "def generate_data_issue_report(dataset_name, summary_text, sample_records_text):\n",
    "    # Initialize LLM\n",
    "    llm = ChatGoogleGenerativeAI(model=\"gemini-2.0-flash\")\n",
    "\n",
    "    # Prompt template\n",
    "    issue_detection_template = \"\"\"\n",
    "        You are a data quality analyst. Given the following column-wise summary and a few sample entries from a dataset.\n",
    "        \n",
    "        {format_instructions}\n",
    "\n",
    "        Your task is to analyze the dataset and identify potential data quality issues. You should\n",
    "        identify as many real *data quality issues* as possible, such as:\n",
    "\n",
    "        - Duplicate or redundant columns\n",
    "        - Mixed data types\n",
    "        - Missing or null values\n",
    "        - Inconsistent formatting or casing\n",
    "        - Invalid entries\n",
    "        - Other structural anomalies\n",
    "\n",
    "        ### Dataset Name: {dataset_name}\n",
    "\n",
    "        ### Column-wise Summary:\n",
    "        {summary}\n",
    "\n",
    "        ### Few Sample Records from the Dataset:\n",
    "        {samples}\n",
    "\n",
    "        Do not assume structure that is not shown.\n",
    "        \"\"\"\n",
    "    \n",
    "    prompt1 = PromptTemplate.from_template(issue_detection_template,partial_variables={\"format_instructions\": parser.get_format_instructions()})\n",
    "    \n",
    "    chain1 = prompt1 | llm | parser\n",
    "\n",
    "    # Run chain\n",
    "    return chain1.invoke({\n",
    "        \"dataset_name\": dataset_name,\n",
    "        \"summary\": summary_text,\n",
    "        \"samples\": sample_records_text\n",
    "    })\n"
   ]
  },
  {
   "cell_type": "markdown",
   "id": "d4863790",
   "metadata": {},
   "source": [
    "# function to convert the summaries into list format "
   ]
  },
  {
   "cell_type": "code",
   "execution_count": 17,
   "id": "a206fcc7",
   "metadata": {},
   "outputs": [],
   "source": [
    "def format_summary_text(summarized_data):\n",
    "    output = []\n",
    "    for col_summary in summarized_data:\n",
    "        output.append(f\"Column        : {col_summary['column']}\")\n",
    "        output.append(f\"Types         : {', '.join(col_summary['types'])}\")\n",
    "        output.append(f\"Sample Values : {col_summary['sample_values']}\")\n",
    "        output.append(f\"Unique Count  : {col_summary['unique_count']}\")\n",
    "        output.append(f\"Null %        : {col_summary['null_percentage']}%\")\n",
    "        output.append(f\"Notes         : {col_summary['notes'] if col_summary['notes'] else 'None'}\")\n",
    "        output.append(\"-\" * 40)\n",
    "    return \"\\n\".join(output)"
   ]
  },
  {
   "cell_type": "markdown",
   "id": "a883be6d",
   "metadata": {},
   "source": [
    "# generating list of random samples from dataset"
   ]
  },
  {
   "cell_type": "code",
   "execution_count": 18,
   "id": "85d910d1",
   "metadata": {},
   "outputs": [],
   "source": [
    "def get_random_samples(file_path, n=10, is_json=False):\n",
    "    if is_json:\n",
    "        with open(file_path, 'r') as f:\n",
    "            data = json.load(f)\n",
    "        return json.dumps(random.sample(data, n), indent=2)\n",
    "    else:\n",
    "        df = pd.read_csv(file_path)\n",
    "        return df.sample(n).to_json(orient='records', indent=2)"
   ]
  },
  {
   "cell_type": "markdown",
   "id": "342214a8",
   "metadata": {},
   "source": [
    "# For Customer Dataset : Issue finder using llm + generating the pdf report "
   ]
  },
  {
   "cell_type": "code",
   "execution_count": 19,
   "id": "03c98492",
   "metadata": {},
   "outputs": [
    {
     "data": {
      "text/plain": [
       "''"
      ]
     },
     "execution_count": 19,
     "metadata": {},
     "output_type": "execute_result"
    }
   ],
   "source": [
    "summary_text_customers = format_summary_text(summarized_customers_data)\n",
    "samples_text_customers = get_random_samples(\"../Data/customers_messy_data.json\", n=10, is_json=True)\n",
    "issues_report_customers = generate_data_issue_report(\"Customers\", summary_text_customers, samples_text_customers)\n",
    "issues_text_customers = issues_report_customers.issues\n",
    "pdf = FPDF()\n",
    "pdf.add_page()\n",
    "pdf.set_font(\"Arial\", \"B\", 16)\n",
    "pdf.cell(0, 10, \"Customers Data Quality Report\", ln=True, align=\"C\")\n",
    "\n",
    "pdf.set_font(\"Arial\", \"B\", 12)\n",
    "pdf.cell(0, 10, \"Detected Data Issues found by LLM\", ln=True)\n",
    "pdf.set_font(\"Arial\", \"\", 10)\n",
    "for issue in issues_text_customers:\n",
    "    pdf.multi_cell(0, 7, f\"- {issue}\")\n",
    "pdf.ln(5)\n",
    "pdf.set_font(\"Arial\", \"B\", 12)\n",
    "pdf.cell(0, 10, \"Column-wise Summary generated by utility\", ln=True)\n",
    "pdf.set_font(\"Arial\", \"\", 10)\n",
    "for line in summary_text_customers.split('\\n'):\n",
    "    pdf.multi_cell(0, 7, line)\n",
    "\n",
    "pdf.ln(5)\n",
    "pdf.output(\"../reports/customers_data_quality_report.pdf\")"
   ]
  },
  {
   "cell_type": "markdown",
   "id": "f187d194",
   "metadata": {},
   "source": [
    "# For Products dataset Issue finder using llm + generating the pdf report "
   ]
  },
  {
   "cell_type": "code",
   "execution_count": 20,
   "id": "cf55417f",
   "metadata": {},
   "outputs": [
    {
     "data": {
      "text/plain": [
       "''"
      ]
     },
     "execution_count": 20,
     "metadata": {},
     "output_type": "execute_result"
    }
   ],
   "source": [
    "summary_text_products = format_summary_text(summarized_products_data)\n",
    "samples_text_products = get_random_samples(\"../Data/products_inconsistent_data.json\", n=10, is_json=True)\n",
    "issues_report_products = generate_data_issue_report(\"Products\", summary_text_products, samples_text_products)\n",
    "issues_text_products = issues_report_products.issues\n",
    "pdf = FPDF()\n",
    "pdf.add_page()\n",
    "pdf.set_font(\"Arial\", \"B\", 16)\n",
    "pdf.cell(0, 10, \"Products Data Quality Report\", ln=True, align=\"C\")\n",
    "pdf.set_font(\"Arial\", \"B\", 12)\n",
    "pdf.cell(0, 10, \"Detected Data Issues found by LLM\", ln=True)\n",
    "pdf.set_font(\"Arial\", \"\", 10)\n",
    "for issue in issues_text_products:\n",
    "    pdf.multi_cell(0, 7, f\"- {issue}\")\n",
    "\n",
    "pdf.ln(5)\n",
    "pdf.set_font(\"Arial\", \"B\", 12)\n",
    "pdf.cell(0, 10, \"Column-wise Summary generated by utility\", ln=True)\n",
    "pdf.set_font(\"Arial\", \"\", 10)\n",
    "for line in summary_text_products.split('\\n'):\n",
    "    pdf.multi_cell(0, 7, line)\n",
    "pdf.ln(5)\n",
    "pdf.output(\"../reports/products_data_quality_report.pdf\")"
   ]
  },
  {
   "cell_type": "markdown",
   "id": "779408db",
   "metadata": {},
   "source": [
    "# For Orders Dataset Issue finder using llm + generating the pdf report "
   ]
  },
  {
   "cell_type": "code",
   "execution_count": 21,
   "id": "e00a385c",
   "metadata": {},
   "outputs": [
    {
     "data": {
      "text/plain": [
       "''"
      ]
     },
     "execution_count": 21,
     "metadata": {},
     "output_type": "execute_result"
    }
   ],
   "source": [
    "summary_text_orders = format_summary_text(summarized_orders_data)\n",
    "samples_text_orders = get_random_samples(\"../Data/orders_unstructured_data.csv\", n=10, is_json=False)\n",
    "issues_report_orders = generate_data_issue_report(\"Orders\", summary_text_orders, samples_text_orders)\n",
    "issues_text_orders = issues_report_orders.issues\n",
    "pdf = FPDF()\n",
    "pdf.add_page()  \n",
    "pdf.set_font(\"Arial\", \"B\", 16)\n",
    "pdf.cell(0, 10, \"Orders Data Quality Report\", ln=True, align=\"C\")\n",
    "\n",
    "pdf.set_font(\"Arial\", \"B\", 12)\n",
    "pdf.cell(0, 10, \"Detected Data Issues found by LLM\", ln=True)\n",
    "pdf.set_font(\"Arial\", \"\", 10)\n",
    "for issue in issues_text_orders:\n",
    "    pdf.multi_cell(0, 7, f\"- {issue}\")\n",
    "\n",
    "pdf.ln(5)\n",
    "pdf.set_font(\"Arial\", \"B\", 12)\n",
    "pdf.cell(0, 10, \"Column-wise Summary generated using utility\", ln=True)\n",
    "pdf.set_font(\"Arial\", \"\", 10)\n",
    "for line in summary_text_orders.split('\\n'):\n",
    "    pdf.multi_cell(0, 7, line)\n",
    "pdf.ln(5)\n",
    "pdf.output(\"../reports/orders_data_quality_report.pdf\")"
   ]
  },
  {
   "cell_type": "code",
   "execution_count": null,
   "id": "e1d2a2f4",
   "metadata": {},
   "outputs": [],
   "source": []
  }
 ],
 "metadata": {
  "kernelspec": {
   "display_name": "myenv",
   "language": "python",
   "name": "python3"
  },
  "language_info": {
   "codemirror_mode": {
    "name": "ipython",
    "version": 3
   },
   "file_extension": ".py",
   "mimetype": "text/x-python",
   "name": "python",
   "nbconvert_exporter": "python",
   "pygments_lexer": "ipython3",
   "version": "3.12.7"
  }
 },
 "nbformat": 4,
 "nbformat_minor": 5
}
