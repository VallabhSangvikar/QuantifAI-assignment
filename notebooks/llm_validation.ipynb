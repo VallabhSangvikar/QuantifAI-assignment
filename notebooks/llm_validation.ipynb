{
 "cells": [
  {
   "cell_type": "raw",
   "id": "61f16d8c-a64f-4229-9b4a-ab30175fcf0b",
   "metadata": {},
   "source": [
    "Import issue in the jupyternb "
   ]
  },
  {
   "cell_type": "code",
   "execution_count": 10,
   "id": "42ccf3f2-2f60-4330-96e9-30281a37936e",
   "metadata": {},
   "outputs": [],
   "source": [
    "import sys\n",
    "import os\n",
    "sys.path.append(os.path.abspath(\"..\"))"
   ]
  },
  {
   "cell_type": "code",
   "execution_count": 11,
   "id": "c7f5e74e-fda3-47bc-8fd9-ddcff9086baf",
   "metadata": {},
   "outputs": [],
   "source": [
    "import pandas as pd\n",
    "from fpdf import FPDF"
   ]
  },
  {
   "cell_type": "code",
   "execution_count": 12,
   "id": "29bc79d8",
   "metadata": {},
   "outputs": [],
   "source": [
    "from pydantic import BaseModel,Field\n",
    "from typing import List"
   ]
  },
  {
   "cell_type": "code",
   "execution_count": 13,
   "id": "f46f5b3c-5c49-481d-9a34-c5c0689df038",
   "metadata": {},
   "outputs": [],
   "source": [
    "from utils.summarise import summarize_dataframe"
   ]
  },
  {
   "cell_type": "code",
   "execution_count": 29,
   "id": "32818001",
   "metadata": {},
   "outputs": [],
   "source": [
    "from langchain.prompts import PromptTemplate\n",
    "from langchain.schema.output_parser import StrOutputParser\n",
    "from langchain.output_parsers import PydanticOutputParser\n",
    "from langchain.chains import LLMChain\n",
    "from langchain_core.runnables import RunnableLambda\n",
    "\n",
    "import random\n",
    "import json"
   ]
  },
  {
   "cell_type": "code",
   "execution_count": 15,
   "id": "cbd8a5fd-49db-43b9-9d6b-977a12411228",
   "metadata": {},
   "outputs": [],
   "source": [
    "from langchain_google_genai import ChatGoogleGenerativeAI\n",
    "from dotenv import load_dotenv"
   ]
  },
  {
   "cell_type": "code",
   "execution_count": 16,
   "id": "8f0882df",
   "metadata": {},
   "outputs": [
    {
     "data": {
      "text/plain": [
       "True"
      ]
     },
     "execution_count": 16,
     "metadata": {},
     "output_type": "execute_result"
    }
   ],
   "source": [
    "load_dotenv()"
   ]
  },
  {
   "cell_type": "code",
   "execution_count": 17,
   "id": "55cf7a14",
   "metadata": {},
   "outputs": [],
   "source": [
    "customers_data_summary = pd.read_json(\"../data/customers_messy_data.json\")\n",
    "products_data_summary = pd.read_json(\"../data/products_inconsistent_data.json\")\n",
    "orders_data_summary = pd.read_csv(\"../data/orders_unstructured_data.csv\")"
   ]
  },
  {
   "cell_type": "code",
   "execution_count": 18,
   "id": "976d8639",
   "metadata": {},
   "outputs": [],
   "source": [
    "summarized_customers_data = summarize_dataframe(customers_data_summary,\"customers\")\n",
    "summarized_products_data = summarize_dataframe(products_data_summary,\"products\")\n",
    "summarized_orders_data = summarize_dataframe(orders_data_summary,\"orders\")"
   ]
  },
  {
   "cell_type": "code",
   "execution_count": 19,
   "id": "a39ec59c",
   "metadata": {},
   "outputs": [],
   "source": [
    "# for col_summary in summarized_customers_data:\n",
    "#     print(f\"Dataset       : {col_summary['dataset']}\")\n",
    "#     print(f\"Column        : {col_summary['column']}\")\n",
    "#     print(f\"Types         : {', '.join(col_summary['types'])}\")\n",
    "#     print(f\"Sample Values : {col_summary['sample_values']}\")\n",
    "#     print(f\"Unique Count  : {col_summary['unique_count']}\")\n",
    "#     print(f\"Null %        : {col_summary['null_percentage']}%\")\n",
    "#     print(f\"Notes         : {col_summary['notes'] if col_summary['notes'] else 'None'}\")\n",
    "#     print(\"-\" * 60)"
   ]
  },
  {
   "cell_type": "code",
   "execution_count": 20,
   "id": "be4f46e8",
   "metadata": {},
   "outputs": [],
   "source": [
    "# for col_summary in summarized_products_data:\n",
    "#     print(f\"Dataset       : {col_summary['dataset']}\")\n",
    "#     print(f\"Column        : {col_summary['column']}\")\n",
    "#     print(f\"Types         : {', '.join(col_summary['types'])}\")\n",
    "#     print(f\"Sample Values : {col_summary['sample_values']}\")\n",
    "#     print(f\"Unique Count  : {col_summary['unique_count']}\")\n",
    "#     print(f\"Null %        : {col_summary['null_percentage']}%\")\n",
    "#     print(f\"Notes         : {col_summary['notes'] if col_summary['notes'] else 'None'}\")\n",
    "#     print(\"-\" * 60)"
   ]
  },
  {
   "cell_type": "code",
   "execution_count": 21,
   "id": "ec6d5cb1",
   "metadata": {},
   "outputs": [],
   "source": [
    "summary_df = pd.DataFrame(summarized_orders_data)"
   ]
  },
  {
   "cell_type": "code",
   "execution_count": 22,
   "id": "06b82701",
   "metadata": {},
   "outputs": [],
   "source": [
    "class IssueOutput(BaseModel):\n",
    "    issues: List[str]\n",
    "\n",
    "\n",
    "\n",
    "parser = PydanticOutputParser(pydantic_object=IssueOutput)"
   ]
  },
  {
   "cell_type": "code",
   "execution_count": 31,
   "id": "39a86df4",
   "metadata": {},
   "outputs": [],
   "source": [
    "def generate_data_issue_report(dataset_name, summary_text, sample_records_text):\n",
    "    # Initialize LLM\n",
    "    llm = ChatGoogleGenerativeAI(model=\"gemini-2.0-flash\")\n",
    "\n",
    "    # Prompt template\n",
    "    issue_detection_template = \"\"\"\n",
    "        You are a data quality analyst. Given the following column-wise summary and a few sample entries from a dataset.\n",
    "        \n",
    "        {format_instructions}\n",
    "\n",
    "        Your task is to analyze the dataset and identify potential data quality issues. You should\n",
    "        identify as many real *data quality issues* as possible, such as:\n",
    "\n",
    "        - Duplicate or redundant columns\n",
    "        - Mixed data types\n",
    "        - Missing or null values\n",
    "        - Inconsistent formatting or casing\n",
    "        - Invalid entries\n",
    "        - Other structural anomalies\n",
    "\n",
    "        ### Dataset Name: {dataset_name}\n",
    "\n",
    "        ### Column-wise Summary:\n",
    "        {summary}\n",
    "\n",
    "        ### Few Sample Records from the Dataset:\n",
    "        {samples}\n",
    "\n",
    "        Do not assume structure that is not shown.\n",
    "        \"\"\"\n",
    "    \n",
    "    prompt1 = PromptTemplate.from_template(issue_detection_template,partial_variables={\"format_instructions\": parser.get_format_instructions()})\n",
    "    # chain1 = LLMChain(llm=llm, prompt=prompt1, output_parser=parser) \n",
    "    chain1 = prompt1 | llm | parser\n",
    "\n",
    "    # Run chain\n",
    "    return chain1.invoke({\n",
    "        \"dataset_name\": dataset_name,\n",
    "        \"summary\": summary_text,\n",
    "        \"samples\": sample_records_text\n",
    "    })\n"
   ]
  },
  {
   "cell_type": "code",
   "execution_count": 24,
   "id": "a206fcc7",
   "metadata": {},
   "outputs": [],
   "source": [
    "def format_summary_text(summarized_data):\n",
    "    output = []\n",
    "    for col_summary in summarized_data:\n",
    "        output.append(f\"Column        : {col_summary['column']}\")\n",
    "        output.append(f\"Types         : {', '.join(col_summary['types'])}\")\n",
    "        output.append(f\"Sample Values : {col_summary['sample_values']}\")\n",
    "        output.append(f\"Unique Count  : {col_summary['unique_count']}\")\n",
    "        output.append(f\"Null %        : {col_summary['null_percentage']}%\")\n",
    "        output.append(f\"Notes         : {col_summary['notes'] if col_summary['notes'] else 'None'}\")\n",
    "        output.append(\"-\" * 40)\n",
    "    return \"\\n\".join(output)"
   ]
  },
  {
   "cell_type": "code",
   "execution_count": 25,
   "id": "85d910d1",
   "metadata": {},
   "outputs": [],
   "source": [
    "def get_random_samples(file_path, n=10, is_json=False):\n",
    "    if is_json:\n",
    "        with open(file_path, 'r') as f:\n",
    "            data = json.load(f)\n",
    "        return json.dumps(random.sample(data, n), indent=2)\n",
    "    else:\n",
    "        df = pd.read_csv(file_path)\n",
    "        return df.sample(n).to_json(orient='records', indent=2)"
   ]
  },
  {
   "cell_type": "markdown",
   "id": "342214a8",
   "metadata": {},
   "source": [
    "# For Customer Dataset Issue finder "
   ]
  },
  {
   "cell_type": "code",
   "execution_count": null,
   "id": "03c98492",
   "metadata": {},
   "outputs": [
    {
     "name": "stdout",
     "output_type": "stream",
     "text": [
      "issues=[\"Redundant columns: 'customer_id' (int) and 'cust_id' (str) both seem to identify the customer, but 'cust_id' has a specific format ('CUST_0001').\", \"Redundant columns: 'email' and 'email_address' both store email information, but they have different null percentages and potentially different values.\", \"Redundant columns: 'phone' and 'phone_number' both store phone number information, but they have different null percentages and potentially different formats.\", \"Redundant columns: 'zip_code' (float) and 'postal_code' (str) both store postal code information, but have different data types and null percentages.\", \"Redundant columns: 'registration_date' and 'reg_date' both store registration date information, but have different formats and null percentages.\", \"Inconsistent naming: 'customer_name' contains values that seem like usernames (e.g., 'henry.davis123', 'jane_doe', 'alice.johnson@email.com') while 'full_name' contains actual names. The sample records confirm name swapping between columns.\", \"Mixed data types: 'zip_code' is a float, which is unusual for zip codes. It should be a string to accommodate leading zeros and potentially non-numeric characters.\", \"Missing values: High percentage of null values in 'phone' (58.4%), 'zip_code' (28.2%), 'registration_date' (21.6%), 'preferred_payment' (22.4%), 'age' (36.4%), 'birth_date' (58.2%) and 'segment' (21.6%).\", \"Inconsistent formatting/casing: 'city' has inconsistent casing (e.g., 'Houston', 'Phoenix', 'New York', 'Chicago', 'NYC'). It also contains values like 'new_york' and 'la'.\", \"Inconsistent formatting/casing: 'state' has both full names (e.g., 'California', 'New York') and abbreviations (e.g., 'AZ', 'IL', 'PA').\", \"Inconsistent formatting: 'phone_number' has different formats, some with parentheses and spaces (e.g., '(555) 376-9467') and some are empty strings.\", \"Inconsistent formatting: 'registration_date' has different date formats (e.g., '12/11/2023', '6/12/2022', '2022-04-09').\", \"Inconsistent formatting: 'status' and 'customer_status' have inconsistent casing (e.g., 'suspended', 'ACTIVE', 'INACTIVE', 'active'). They also contain empty strings.\", \"Invalid entries: 'email_address' contains empty strings, which are invalid email addresses.\", \"Invalid entries: 'gender' contains empty strings and 'Other', which might need further clarification or standardization.\", \"Potential data inconsistency: Discrepancies between 'status' and 'customer_status'. For example, a customer can have 'status' as 'ACTIVE' and 'customer_status' as 'INACTIVE'.\", \"Potential data inconsistency: Customer names are being populated incorrectly. 'customer_name' should be the username and 'full_name' should be the actual name, but the sample data shows them populated in reverse.\", \"Missing values: 'status' and 'customer_status' columns contain NULL values.\", \"Mixed data types: The 'total_spent' column is of type float, but the sample data contains the values as strings. This needs to be converted to float.\"]\n"
     ]
    },
    {
     "data": {
      "text/plain": [
       "''"
      ]
     },
     "execution_count": 35,
     "metadata": {},
     "output_type": "execute_result"
    }
   ],
   "source": [
    "summary_text_customers = format_summary_text(summarized_customers_data)\n",
    "samples_text_customers = get_random_samples(\"../Data/customers_messy_data.json\", n=10, is_json=True)\n",
    "issues_report_customers = generate_data_issue_report(\"Customers\", summary_text_customers, samples_text_customers)\n",
    "issues_text_customers = issues_report_customers.issues\n",
    "pdf = FPDF()\n",
    "pdf.add_page()\n",
    "pdf.set_font(\"Arial\", \"B\", 16)\n",
    "pdf.cell(0, 10, \"Customers Data Quality Report\", ln=True, align=\"C\")\n",
    "\n",
    "pdf.set_font(\"Arial\", \"B\", 12)\n",
    "pdf.cell(0, 10, \"Detected Data Issues found by LLM\", ln=True)\n",
    "pdf.set_font(\"Arial\", \"\", 10)\n",
    "for issue in issues_text_customers:\n",
    "    pdf.multi_cell(0, 7, f\"- {issue}\")\n",
    "pdf.ln(5)\n",
    "pdf.set_font(\"Arial\", \"B\", 12)\n",
    "pdf.cell(0, 10, \"Column-wise Summary generated by utility\", ln=True)\n",
    "pdf.set_font(\"Arial\", \"\", 10)\n",
    "for line in summary_text_customers.split('\\n'):\n",
    "    pdf.multi_cell(0, 7, line)\n",
    "\n",
    "pdf.ln(5)\n",
    "pdf.output(\"../reports/customers_data_quality_report.pdf\")"
   ]
  },
  {
   "cell_type": "markdown",
   "id": "f187d194",
   "metadata": {},
   "source": [
    "# For Products dataset Issue finder "
   ]
  },
  {
   "cell_type": "code",
   "execution_count": 36,
   "id": "cf55417f",
   "metadata": {},
   "outputs": [
    {
     "data": {
      "text/plain": [
       "''"
      ]
     },
     "execution_count": 36,
     "metadata": {},
     "output_type": "execute_result"
    }
   ],
   "source": [
    "summary_text_products = format_summary_text(summarized_products_data)\n",
    "samples_text_products = get_random_samples(\"../Data/products_inconsistent_data.json\", n=10, is_json=True)\n",
    "issues_report_products = generate_data_issue_report(\"Products\", summary_text_products, samples_text_products)\n",
    "issues_text_products = issues_report_products.issues\n",
    "pdf = FPDF()\n",
    "pdf.add_page()\n",
    "pdf.set_font(\"Arial\", \"B\", 16)\n",
    "pdf.cell(0, 10, \"Products Data Quality Report\", ln=True, align=\"C\")\n",
    "pdf.set_font(\"Arial\", \"B\", 12)\n",
    "pdf.cell(0, 10, \"Detected Data Issues found by LLM\", ln=True)\n",
    "pdf.set_font(\"Arial\", \"\", 10)\n",
    "for issue in issues_text_products:\n",
    "    pdf.multi_cell(0, 7, f\"- {issue}\")\n",
    "\n",
    "pdf.ln(5)\n",
    "pdf.set_font(\"Arial\", \"B\", 12)\n",
    "pdf.cell(0, 10, \"Column-wise Summary generated by utility\", ln=True)\n",
    "pdf.set_font(\"Arial\", \"\", 10)\n",
    "for line in summary_text_products.split('\\n'):\n",
    "    pdf.multi_cell(0, 7, line)\n",
    "pdf.ln(5)\n",
    "pdf.output(\"../reports/products_data_quality_report.pdf\")"
   ]
  },
  {
   "cell_type": "markdown",
   "id": "779408db",
   "metadata": {},
   "source": [
    "# For Orders Dataset Issue finder"
   ]
  },
  {
   "cell_type": "code",
   "execution_count": 37,
   "id": "e00a385c",
   "metadata": {},
   "outputs": [
    {
     "data": {
      "text/plain": [
       "''"
      ]
     },
     "execution_count": 37,
     "metadata": {},
     "output_type": "execute_result"
    }
   ],
   "source": [
    "summary_text_orders = format_summary_text(summarized_orders_data)\n",
    "samples_text_orders = get_random_samples(\"../Data/orders_unstructured_data.csv\", n=10, is_json=False)\n",
    "issues_report_orders = generate_data_issue_report(\"Orders\", summary_text_orders, samples_text_orders)\n",
    "issues_text_orders = issues_report_orders.issues\n",
    "pdf = FPDF()\n",
    "pdf.add_page()  \n",
    "pdf.set_font(\"Arial\", \"B\", 16)\n",
    "pdf.cell(0, 10, \"Orders Data Quality Report\", ln=True, align=\"C\")\n",
    "\n",
    "pdf.set_font(\"Arial\", \"B\", 12)\n",
    "pdf.cell(0, 10, \"Detected Data Issues found by LLM\", ln=True)\n",
    "pdf.set_font(\"Arial\", \"\", 10)\n",
    "for issue in issues_text_orders:\n",
    "    pdf.multi_cell(0, 7, f\"- {issue}\")\n",
    "\n",
    "pdf.ln(5)\n",
    "pdf.set_font(\"Arial\", \"B\", 12)\n",
    "pdf.cell(0, 10, \"Column-wise Summary generated using utility\", ln=True)\n",
    "pdf.set_font(\"Arial\", \"\", 10)\n",
    "for line in summary_text_orders.split('\\n'):\n",
    "    pdf.multi_cell(0, 7, line)\n",
    "pdf.ln(5)\n",
    "pdf.output(\"../reports/orders_data_quality_report.pdf\")"
   ]
  },
  {
   "cell_type": "code",
   "execution_count": null,
   "id": "e1d2a2f4",
   "metadata": {},
   "outputs": [],
   "source": []
  }
 ],
 "metadata": {
  "kernelspec": {
   "display_name": "myenv",
   "language": "python",
   "name": "python3"
  },
  "language_info": {
   "codemirror_mode": {
    "name": "ipython",
    "version": 3
   },
   "file_extension": ".py",
   "mimetype": "text/x-python",
   "name": "python",
   "nbconvert_exporter": "python",
   "pygments_lexer": "ipython3",
   "version": "3.12.7"
  }
 },
 "nbformat": 4,
 "nbformat_minor": 5
}
